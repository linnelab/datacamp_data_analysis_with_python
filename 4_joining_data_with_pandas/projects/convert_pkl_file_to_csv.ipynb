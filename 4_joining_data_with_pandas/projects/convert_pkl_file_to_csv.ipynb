{
 "cells": [
  {
   "cell_type": "markdown",
   "id": "7a5dee3a",
   "metadata": {},
   "source": [
    "# Convert pickle files to csv\n",
    "-----------------------------------------------\n",
    "\n",
    "## 🎯 Goal & Solutions\n",
    "* Will convert mutiple pickle files on datasets folder to csv file. (These pickle files put on my desktop D:\\datasets). \n",
    "* Then this csv files will manual upload to github \"datacamp_data_analysis_with_python\" repository.\n",
    "\n",
    "## 🤷 Reason\n",
    "* use pd.read_pickle() to read pickle files on github \"datacamp_data_analysis_with_python\" repository happen error message as below. \n",
    "    * `error message : UnpicklingError: invalid load key, '\\x0a'`\n",
    "* But pickle files put on my desktop, use pd.read_pickle() can success read file. \n",
    "\n",
    "## 💡 Method"
   ]
  },
  {
   "cell_type": "code",
   "execution_count": 1,
   "id": "69774e82",
   "metadata": {},
   "outputs": [],
   "source": [
    "# Import the required libraries\n",
    "import os\n",
    "import pickle as pkl\n",
    "import pandas as pd\n",
    "\n",
    "# Define the location of the directory\n",
    "pkl_path = \"D:\\datasets\\pickle_files\"\n",
    "csv_path = \"D:\\datasets\\csv_files\"\n",
    "\n",
    "# Change the directory\n",
    "os.chdir(pkl_path)\n",
    "\n",
    "# Iterate over all the files in the directory\n",
    "for file in os.listdir():\n",
    "    if file.endswith('.p'):\n",
    "        \n",
    "        # Create the filepath of particular file\n",
    "        pkl_file_path = f\"{pkl_path}\\{file}\"\n",
    "        \n",
    "        # Get file name without extension\n",
    "        file_name = os.path.splitext(file)[0]\n",
    "        \n",
    "        # load pickle file from pkl_path\n",
    "        with open(pkl_file_path, \"rb\") as f:\n",
    "            obj = pkl.load(f)\n",
    "        \n",
    "        # Output csv file to csv_path\n",
    "        df = pd.DataFrame(obj)\n",
    "        df.to_csv(f'{csv_path}\\{file_name}.csv')"
   ]
  },
  {
   "cell_type": "markdown",
   "id": "685b1d52",
   "metadata": {},
   "source": [
    "### ✈️ Result\n",
    "\n",
    "* Output csv files on github \"datacamp_data_analysis_with_python\" repository, link as below:\n",
    "https://github.com/linnelab/datacamp_data_analysis_with_python/tree/main/4_joining_data_with_pandas/datasets/csv_files"
   ]
  }
 ],
 "metadata": {
  "kernelspec": {
   "display_name": "Python 3 (ipykernel)",
   "language": "python",
   "name": "python3"
  },
  "language_info": {
   "codemirror_mode": {
    "name": "ipython",
    "version": 3
   },
   "file_extension": ".py",
   "mimetype": "text/x-python",
   "name": "python",
   "nbconvert_exporter": "python",
   "pygments_lexer": "ipython3",
   "version": "3.9.12"
  }
 },
 "nbformat": 4,
 "nbformat_minor": 5
}
